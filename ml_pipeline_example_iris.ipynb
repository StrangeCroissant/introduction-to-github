{
  "nbformat": 4,
  "nbformat_minor": 0,
  "metadata": {
    "colab": {
      "provenance": [],
      "collapsed_sections": [],
      "authorship_tag": "ABX9TyNwRc9MGfLBWklKL9AtNsBI",
      "include_colab_link": true
    },
    "kernelspec": {
      "name": "python3",
      "display_name": "Python 3"
    },
    "language_info": {
      "name": "python"
    }
  },
  "cells": [
    {
      "cell_type": "markdown",
      "metadata": {
        "id": "view-in-github",
        "colab_type": "text"
      },
      "source": [
        "<a href=\"https://colab.research.google.com/github/StrangeCroissant/introduction-to-github/blob/main/ml_pipeline_example_iris.ipynb\" target=\"_parent\"><img src=\"https://colab.research.google.com/assets/colab-badge.svg\" alt=\"Open In Colab\"/></a>"
      ]
    },
    {
      "cell_type": "markdown",
      "source": [
        "This is a pipeline example on irish data"
      ],
      "metadata": {
        "id": "32VZWODlIEiG"
      }
    },
    {
      "cell_type": "markdown",
      "source": [
        "first lets inport libs and data"
      ],
      "metadata": {
        "id": "1L6QUW8nIOgO"
      }
    },
    {
      "cell_type": "code",
      "source": [
        "from sklearn import datasets\n",
        "import pandas as pd\n",
        "import numpy as np\n",
        "import matplotlib as plt \n",
        "from sklearn import tree\n",
        "from sklearn.model_selection import train_test_split\n",
        "from sklearn.neighbors import KNeighborsClassifier\n",
        "from sklearn.metrics import accuracy_score"
      ],
      "metadata": {
        "id": "SofOibeBINaX"
      },
      "execution_count": 15,
      "outputs": []
    },
    {
      "cell_type": "code",
      "source": [
        "df = datasets.load_iris()\n",
        "X = df.data\n",
        "y= df.target \n",
        "#print(X)\n",
        "#print(y)"
      ],
      "metadata": {
        "id": "pPUsGRcUITo-"
      },
      "execution_count": 26,
      "outputs": []
    },
    {
      "cell_type": "code",
      "source": [
        "X_train , X_test , y_train , y_test = train_test_split(\n",
        "    X,y, train_size = 0.2 , random_state = 0 \n",
        ")"
      ],
      "metadata": {
        "id": "1k81ntazIzdM"
      },
      "execution_count": 11,
      "outputs": []
    },
    {
      "cell_type": "code",
      "source": [
        "tree_clf = tree.DecisionTreeClassifier()\n",
        "tree_clf.fit(X_train,y_train)"
      ],
      "metadata": {
        "colab": {
          "base_uri": "https://localhost:8080/"
        },
        "id": "Cp_GI7cyI9M0",
        "outputId": "dddb28b7-5a3e-4ce0-de7f-253d24ecfd75"
      },
      "execution_count": 18,
      "outputs": [
        {
          "output_type": "execute_result",
          "data": {
            "text/plain": [
              "DecisionTreeClassifier()"
            ]
          },
          "metadata": {},
          "execution_count": 18
        }
      ]
    },
    {
      "cell_type": "code",
      "source": [
        "y_pred = tree_clf.predict(X_test)"
      ],
      "metadata": {
        "id": "tTe1xnFUI-aB"
      },
      "execution_count": 19,
      "outputs": []
    },
    {
      "cell_type": "code",
      "source": [
        "print(accuracy_score(y_test,y_pred))"
      ],
      "metadata": {
        "colab": {
          "base_uri": "https://localhost:8080/"
        },
        "id": "dyPOkMfKJNwR",
        "outputId": "25167f7a-0010-48ee-f82b-f1e0eba48187"
      },
      "execution_count": 23,
      "outputs": [
        {
          "output_type": "stream",
          "name": "stdout",
          "text": [
            "0.9166666666666666\n"
          ]
        }
      ]
    },
    {
      "cell_type": "code",
      "source": [
        "knn_clf = KNeighborsClassifier()\n",
        "knn_clf. fit(X_train,y_train)\n",
        "\n",
        "y_pred_knn = knn_clf.predict(X_test)"
      ],
      "metadata": {
        "id": "oJYpB7qmJWKs"
      },
      "execution_count": 24,
      "outputs": []
    },
    {
      "cell_type": "code",
      "source": [
        "print(accuracy_score(y_test,y_pred_knn))"
      ],
      "metadata": {
        "colab": {
          "base_uri": "https://localhost:8080/"
        },
        "id": "TBU7wvh_Jwh1",
        "outputId": "3ada9cdc-653d-4f3b-c4f5-c0e7a863b502"
      },
      "execution_count": 25,
      "outputs": [
        {
          "output_type": "stream",
          "name": "stdout",
          "text": [
            "0.9333333333333333\n"
          ]
        }
      ]
    },
    {
      "cell_type": "code",
      "source": [],
      "metadata": {
        "id": "fjhD6VJ1J1Z0"
      },
      "execution_count": null,
      "outputs": []
    }
  ]
}